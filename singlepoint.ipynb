{
 "cells": [
  {
   "cell_type": "code",
   "execution_count": 1,
   "metadata": {},
   "outputs": [],
   "source": [
    "from tc_python import *\n",
    "import itertools as itertool\n",
    "import time\n",
    "import numpy as np\n",
    "import matplotlib.pyplot as plt"
   ]
  },
  {
   "cell_type": "code",
   "execution_count": 2,
   "metadata": {},
   "outputs": [],
   "source": [
    "def singlePoint(database=[\"tcfe9\"],T=[273],P=[1e5],components=[\"fe\",\"c\"],phases=[\"bcc\"],mole_fractions=[99.02,0.08]):\n",
    "    \"\"\"\n",
    "    Single point equilibrium calculations\n",
    "    \n",
    "    ## input: \n",
    "        database name: [string],\n",
    "        Temperature float,\n",
    "        Pressure float,\n",
    "        elements: [string], \n",
    "        phases [string], if empty all phases from the database are included\n",
    "        mole fractions [float]\n",
    "            \n",
    "    ## output: dictionary {\"nps\",\"vs\",\"ws\",\"xiphs\",\"ys\", \"acs\",\"mus\" }\n",
    "        stable_phases: [string],\n",
    "        npms: phase fractions [float],\n",
    "        vpvs: volume fractions of phases [float], \n",
    "        ws: weight fractions of elements [float],\n",
    "        xiphs: mole fractions of elements in phases [float],\n",
    "        ys: y fractions of elements is phases [float], \n",
    "        bineries: binary list of all elements and stable phases [tuple (component,phase)]\n",
    "        acs: activities of elements with respect to all phases \n",
    "        mus: chemical potentials of all components\n",
    "    \"\"\"\n",
    "    with TCPython() as start:\n",
    "        if not phases:\n",
    "            system_int = start.select_database_and_elements(database,components)\n",
    "        else:    \n",
    "            system_int = start.select_database_and_elements(database,components).without_default_phases()\n",
    "            for phase in phases:\n",
    "                system_int.select_phase(phase)\n",
    "        system = system_int.get_system()\n",
    "        ticc=time.time()\n",
    "        calc = system.with_single_equilibrium_calculation()\n",
    "        for i in range(len(components)-1):\n",
    "            calc.set_condition(ThermodynamicQuantity.mole_fraction_of_a_component((components[i])), mole_fractions[i])\n",
    "        calc.set_condition(ThermodynamicQuantity.temperature(), 1723.15)\n",
    "        calc.set_condition(ThermodynamicQuantity.pressure(), 1e5)\n",
    "        calc_res = calc.calculate()\n",
    "        \n",
    "        stable_phases = calc_res.get_stable_phases()\n",
    "        volume_fractions,phase_fractions,weight_fractions,xs_in_phases,ys_in_phases,activities,chemical_potentials = \\\n",
    "        [],[],[],[],[],[],[]\n",
    "        for phase in stable_phases:\n",
    "            volume_fractions.append(calc_res.get_value_of('vpv({})'.format(phase)))       \n",
    "            phase_fractions.append(calc_res.get_value_of('npm({})'.format(phase)))\n",
    "        for element in components:\n",
    "            weight_fractions.append(calc_res.get_value_of('w({})'.format(element)))\n",
    "            chemical_potentials.append(calc_res.get_value_of('mu({})'.format(element)))\n",
    "        binarys = list(itertool.product(stable_phases, components))\n",
    "        for binary in binarys:\n",
    "            xs_in_phases.append(calc_res.get_value_of('x({},{})'.format(binary[0], binary[1])))\n",
    "            try:\n",
    "                ys_in_phases.append(calc_res.get_value_of('y({},{})'.format(binary[0], binary[1])))\n",
    "            except Exception as error:\n",
    "                a=1\n",
    "                #ys_in_phases.append(-1)\n",
    "            try:\n",
    "                activities.append(calc_res.get_value_of('ac({},{})'.format(binary[1], binary[0])))                    \n",
    "            except Exception as error:\n",
    "                a=1\n",
    "                #ys_in_phases.append(-1)\n",
    "        tocc=time.time()\n",
    "        print(tocc-ticc)\n",
    "        return {\"stable_phases\":stable_phases,\"npms\":phase_fractions, \\\n",
    "                \"vpvs\":volume_fractions,\"ws\":weight_fractions,\"xiphs\":xs_in_phases, \\\n",
    "                \"ys\":ys_in_phases,\"acs\":activities,\"mus\":chemical_potentials,\"binaries\":binarys}"
   ]
  },
  {
   "cell_type": "code",
   "execution_count": 3,
   "metadata": {
    "scrolled": true
   },
   "outputs": [
    {
     "name": "stdout",
     "output_type": "stream",
     "text": [
      "Help on function singlePoint in module __main__:\n",
      "\n",
      "singlePoint(database=['tcfe9'], T=[273], P=[100000.0], components=['fe', 'c'], phases=['bcc'], mole_fractions=[99.02, 0.08])\n",
      "    Single point equilibrium calculations\n",
      "    \n",
      "    ## input: \n",
      "        database name: [string],\n",
      "        Temperature float,\n",
      "        Pressure float,\n",
      "        elements: [string], \n",
      "        phases [string], if empty all phases from the database are included\n",
      "        mole fractions [float]\n",
      "            \n",
      "    ## output: dictionary {\"nps\",\"vs\",\"ws\",\"xiphs\",\"ys\", \"acs\",\"mus\" }\n",
      "        stable_phases: [string],\n",
      "        npms: phase fractions [float],\n",
      "        vpvs: volume fractions of phases [float], \n",
      "        ws: weight fractions of elements [float],\n",
      "        xiphs: mole fractions of elements in phases [float],\n",
      "        ys: y fractions of elements is phases [float], \n",
      "        bineries: binary list of all elements and stable phases [tuple (component,phase)]\n",
      "        acs: activities of elements with respect to all phases \n",
      "        mus: chemical potentials of all components\n",
      "\n"
     ]
    }
   ],
   "source": [
    "help(singlePoint)"
   ]
  },
  {
   "cell_type": "code",
   "execution_count": 4,
   "metadata": {},
   "outputs": [],
   "source": [
    "database = \"TCFE8\"\n",
    "elements = [\"C\",\"Co\",\"N\",\"Ti\",\"W\"]\n",
    "phases = [\"liquid\", \"fcc\", \"mc_shp\", \"graphite\"]\n",
    "mole_fractions = [0.42943834995313096,0.1,0.019999999999999993,0.01999999999999999,0.4305616500468691]"
   ]
  },
  {
   "cell_type": "code",
   "execution_count": 5,
   "metadata": {},
   "outputs": [
    {
     "name": "stdout",
     "output_type": "stream",
     "text": [
      "0.18500900268554688\n",
      "18.717572450637817\n"
     ]
    }
   ],
   "source": [
    "tic=time.time()\n",
    "a=singlePoint(database,1723, 1e5, elements,phases,mole_fractions)\n",
    "toc = time.time()\n",
    "print(toc-tic)"
   ]
  }
 ],
 "metadata": {
  "kernelspec": {
   "display_name": "Python 3",
   "language": "python",
   "name": "python3"
  },
  "language_info": {
   "codemirror_mode": {
    "name": "ipython",
    "version": 3
   },
   "file_extension": ".py",
   "mimetype": "text/x-python",
   "name": "python",
   "nbconvert_exporter": "python",
   "pygments_lexer": "ipython3",
   "version": "3.7.3"
  }
 },
 "nbformat": 4,
 "nbformat_minor": 4
}
